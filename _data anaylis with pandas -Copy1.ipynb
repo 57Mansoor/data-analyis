{
 "cells": [
  {
   "cell_type": "code",
   "execution_count": null,
   "id": "e3cb370c",
   "metadata": {},
   "outputs": [],
   "source": [
    "import pandas as pd\n",
    "\n",
    "def load_and_analyze_data(file_path):\n",
    "    # Load the CSV file into a DataFrame\n",
    "    df = pd.read_csv(file_path)\n",
    "    \n",
    "    # Display the first few rows of the data\n",
    "    print(\"First 5 rows of the dataset:\")\n",
    "    print(df.head())\n",
    "    \n",
    "    # Perform basic data analysis tasks:\n",
    "    \n",
    "    # 1. Summary statistics for all numeric columns\n",
    "    print(\"\\nSummary statistics (mean, std, min, max, etc.):\")\n",
    "    print(df.describe())\n",
    "    \n",
    "    # 2. Find the average of a specific column (e.g., 'column_name')\n",
    "    column_name = input(\"\\nEnter the column name to find its average: \")\n",
    "    \n",
    "    if column_name in df.columns:\n",
    "        column_avg = df[column_name].mean()\n",
    "        print(f\"\\nAverage of column '{column_name}': {column_avg}\")\n",
    "    else:\n",
    "        print(f\"\\nColumn '{column_name}' not found in the dataset.\")\n",
    "    \n",
    "    # 3. Displaying data types of each column\n",
    "    print(\"\\nData types of each column:\")\n",
    "    print(df.dtypes)\n",
    "    \n",
    "    # 4. Count missing values for each column\n",
    "    print(\"\\nMissing values in each column:\")\n",
    "    print(df.isnull().sum())\n",
    "\n",
    "def main():\n",
    "    print(\"Basic Data Analysis with Pandas\")\n",
    "    \n",
    "    # Input CSV file path\n",
    "    file_path = input(\"Enter the path to your CSV file: \")\n",
    "    \n",
    "    try:\n",
    "        # Load and analyze data\n",
    "        load_and_analyze_data(file_path)\n",
    "    except Exception as e:\n",
    "        print(f\"Error loading the file: {e}\")\n",
    "\n",
    "if __name__ == \"__main__\":\n",
    "    main()\n"
   ]
  },
  {
   "cell_type": "code",
   "execution_count": null,
   "id": "79043093",
   "metadata": {},
   "outputs": [],
   "source": []
  }
 ],
 "metadata": {
  "kernelspec": {
   "display_name": "Python 3 (ipykernel)",
   "language": "python",
   "name": "python3"
  },
  "language_info": {
   "codemirror_mode": {
    "name": "ipython",
    "version": 3
   },
   "file_extension": ".py",
   "mimetype": "text/x-python",
   "name": "python",
   "nbconvert_exporter": "python",
   "pygments_lexer": "ipython3",
   "version": "3.9.12"
  }
 },
 "nbformat": 4,
 "nbformat_minor": 5
}
